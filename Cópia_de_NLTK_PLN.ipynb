{
  "nbformat": 4,
  "nbformat_minor": 0,
  "metadata": {
    "colab": {
      "provenance": [],
      "include_colab_link": true
    },
    "kernelspec": {
      "name": "python3",
      "display_name": "Python 3"
    },
    "language_info": {
      "name": "python"
    }
  },
  "cells": [
    {
      "cell_type": "markdown",
      "metadata": {
        "id": "view-in-github",
        "colab_type": "text"
      },
      "source": [
        "<a href=\"https://colab.research.google.com/github/sanchesprogramer/Inteligencia-Artificial/blob/main/C%C3%B3pia_de_NLTK_PLN.ipynb\" target=\"_parent\"><img src=\"https://colab.research.google.com/assets/colab-badge.svg\" alt=\"Open In Colab\"/></a>"
      ]
    },
    {
      "cell_type": "code",
      "execution_count": 20,
      "metadata": {
        "colab": {
          "base_uri": "https://localhost:8080/"
        },
        "id": "lcJvhg1cjPkh",
        "outputId": "c3e15e14-5d5b-4fc9-f4d1-9a544648ef27"
      },
      "outputs": [
        {
          "output_type": "stream",
          "name": "stdout",
          "text": [
            "Tokens:\n",
            "['O', 'Google', 'apresentou', 'um', 'novo', 'chip', 'que', 'segundo', 'a', 'empresa', 'leva', 'cinco', 'minutos', 'para', 'resolver', 'um', 'problema', 'que', 'atualmente', 'os', 'supercomputadores', 'mais', 'rápidos', 'do', 'mundo', 'levariam', 'dez', 'septilhões', 'ou', '10', '000', '000', '000', '000', '000', '000', '000', '000', 'ou', '10', 'elevado', 'à', 'vigésima', 'quarta', 'potência', 'de', 'anos', 'para', 'completar', 'O', 'chip', 'é', 'o', 'mais', 'recente', 'desenvolvimento', 'em', 'um', 'campo', 'conhecido', 'como', 'computação', 'quântica', 'que', 'busca', 'usar', 'os', 'princípios', 'da', 'física', 'de', 'partículas', 'para', 'criar', 'um', 'novo', 'tipo', 'de', 'computador', 'incrivelmente', 'poderoso', 'O', 'Google', 'afirma', 'que', 'seu', 'novo', 'chip', 'quântico', 'chamado', 'Willow', 'incorpora', 'avanços', 'importantes', 'e', 'pavimenta', 'o', 'caminho', 'para', 'um', 'computador', 'quântico', 'útil', 'em', 'grande', 'escala']\n",
            "\n",
            "Tokens sem Stopwords:\n",
            "['Google', 'apresentou', 'novo', 'chip', 'segundo', 'empresa', 'leva', 'cinco', 'minutos', 'resolver', 'problema', 'atualmente', 'supercomputadores', 'rápidos', 'mundo', 'levariam', 'dez', 'septilhões', 'elevado', 'vigésima', 'quarta', 'potência', 'anos', 'completar', 'chip', 'recente', 'desenvolvimento', 'campo', 'conhecido', 'computação', 'quântica', 'busca', 'usar', 'princípios', 'física', 'partículas', 'criar', 'novo', 'tipo', 'computador', 'incrivelmente', 'poderoso', 'Google', 'afirma', 'novo', 'chip', 'quântico', 'chamado', 'Willow', 'incorpora', 'avanços', 'importantes', 'pavimenta', 'caminho', 'computador', 'quântico', 'útil', 'grande', 'escala']\n",
            "\n",
            "Tokens após Stemming:\n",
            "['googl', 'apresent', 'nov', 'chip', 'segund', 'empres', 'lev', 'cinc', 'minut', 'resolv', 'problem', 'atual', 'supercomput', 'ráp', 'mund', 'lev', 'dez', 'septilhõ', 'elev', 'vigésim', 'quart', 'potênc', 'anos', 'complet', 'chip', 'recent', 'desenvolv', 'camp', 'conhec', 'comput', 'quântic', 'busc', 'usar', 'princípi', 'físic', 'partícul', 'cri', 'nov', 'tip', 'comput', 'incrivel', 'poder', 'googl', 'afirm', 'nov', 'chip', 'quântic', 'cham', 'willow', 'incorpor', 'avanc', 'import', 'paviment', 'caminh', 'comput', 'quântic', 'útil', 'grand', 'escal']\n",
            "\n",
            "Frequência dos termos:\n",
            "googl: 2\n",
            "apresent: 1\n",
            "nov: 3\n",
            "chip: 3\n",
            "segund: 1\n",
            "empres: 1\n",
            "lev: 2\n",
            "cinc: 1\n",
            "minut: 1\n",
            "resolv: 1\n",
            "problem: 1\n",
            "atual: 1\n",
            "supercomput: 1\n",
            "ráp: 1\n",
            "mund: 1\n",
            "dez: 1\n",
            "septilhõ: 1\n",
            "elev: 1\n",
            "vigésim: 1\n",
            "quart: 1\n",
            "potênc: 1\n",
            "anos: 1\n",
            "complet: 1\n",
            "recent: 1\n",
            "desenvolv: 1\n",
            "camp: 1\n",
            "conhec: 1\n",
            "comput: 3\n",
            "quântic: 3\n",
            "busc: 1\n",
            "usar: 1\n",
            "princípi: 1\n",
            "físic: 1\n",
            "partícul: 1\n",
            "cri: 1\n",
            "tip: 1\n",
            "incrivel: 1\n",
            "poder: 1\n",
            "afirm: 1\n",
            "cham: 1\n",
            "willow: 1\n",
            "incorpor: 1\n",
            "avanc: 1\n",
            "import: 1\n",
            "paviment: 1\n",
            "caminh: 1\n",
            "útil: 1\n",
            "grand: 1\n",
            "escal: 1\n",
            "\n",
            "Este texto trata de chip!\n"
          ]
        },
        {
          "output_type": "stream",
          "name": "stderr",
          "text": [
            "[nltk_data] Downloading package stopwords to /root/nltk_data...\n",
            "[nltk_data]   Package stopwords is already up-to-date!\n"
          ]
        }
      ],
      "source": [
        "import nltk\n",
        "from nltk.corpus import stopwords\n",
        "from nltk.tokenize import RegexpTokenizer  # usando alternativa ao word_tokenize\n",
        "from nltk.stem import SnowballStemmer\n",
        "from nltk import FreqDist\n",
        "\n",
        "# Baixar recursos necessários\n",
        "nltk.download('stopwords')\n",
        "\n",
        "# Texto de exemplo\n",
        "texto = \"\"\"\n",
        "O Google apresentou um novo chip que, segundo a empresa, leva cinco minutos para resolver um problema que atualmente os supercomputadores mais rápidos do mundo levariam dez septilhões (ou 10.000.000.000.000.000.000.000.000, ou 10 elevado à vigésima quarta potência) de anos para completar.\n",
        "\n",
        "O chip é o mais recente desenvolvimento em um campo conhecido como computação quântica, que busca usar os princípios da física de partículas para criar um novo tipo de computador incrivelmente poderoso.\n",
        "\n",
        "O Google afirma que seu novo chip quântico, chamado Willow, incorpora \"avanços\" importantes\" e \"pavimenta o caminho para um computador quântico útil em grande escala\".\n",
        "\"\"\"\n",
        "\n",
        "# 1. Tokenização (sem usar word_tokenize)\n",
        "tokenizer = RegexpTokenizer(r'\\w+')\n",
        "tokens = tokenizer.tokenize(texto)\n",
        "print(\"Tokens:\")\n",
        "print(tokens)\n",
        "\n",
        "# 2. Remoção de Stopwords\n",
        "stop_words = set(stopwords.words('portuguese'))\n",
        "tokens_filtrados = [w for w in tokens if w.lower() not in stop_words and w.isalpha()]\n",
        "print(\"\\nTokens sem Stopwords:\")\n",
        "print(tokens_filtrados)\n",
        "\n",
        "# 3. Stemming (radicalização)\n",
        "stemmer = SnowballStemmer('portuguese')\n",
        "stems = [stemmer.stem(w) for w in tokens_filtrados]\n",
        "print(\"\\nTokens após Stemming:\")\n",
        "print(stems)\n",
        "\n",
        "# 4. Frequência de palavras\n",
        "frequencia = FreqDist(stems)\n",
        "print(\"\\nFrequência dos termos:\")\n",
        "for palavra, freq in frequencia.items():\n",
        "    print(f\"{palavra}: {freq}\")\n",
        "\n",
        "# 5. Classificação Simples (detectar se fala de 'inteligência')\n",
        "if 'chip' in stems:\n",
        "    print(\"\\nEste texto trata de chip!\")\n",
        "else:\n",
        "    print(\"\\nEste texto não trata de chip.\")"
      ]
    },
    {
      "cell_type": "code",
      "source": [],
      "metadata": {
        "id": "2VeID8q_sPpc"
      },
      "execution_count": null,
      "outputs": []
    }
  ]
}